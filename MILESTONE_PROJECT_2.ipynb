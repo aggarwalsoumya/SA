{
 "cells": [
  {
   "cell_type": "markdown",
   "metadata": {
    "deletable": true,
    "editable": true
   },
   "source": [
    "# BlackJack Game"
   ]
  },
  {
   "cell_type": "code",
   "execution_count": 14,
   "metadata": {
    "collapsed": false,
    "deletable": true,
    "editable": true
   },
   "outputs": [],
   "source": [
    "import random    # used to shuffle the deck prior to dealing\n",
    "# Global variables\n",
    "suits = ('Hearts','Diamonds','Spades','Clubs')\n",
    "ranks = ('Two','Three','Four','Five','Six','Seven','Eight','Nine','Ten','Jack','Queen','King','Ace')\n",
    "values = {'Two':2,'Three':3,'Four':4,'Five':5,'Six':6,'Seven':7,'Eight':8,'Nine':9,'Ten':10,'Jack':10,'Queen':10,'King':10,'Ace':11}\n",
    "\n",
    "playing = True   # to control the flow of game"
   ]
  },
  {
   "cell_type": "code",
   "execution_count": 15,
   "metadata": {
    "collapsed": true,
    "deletable": true,
    "editable": true
   },
   "outputs": [],
   "source": [
    "class Card():  # each Card object will have a suit & a rank\n",
    "    \n",
    "    def __init__(self,suit,rank):\n",
    "        self.suit = suit\n",
    "        self.rank = rank        \n",
    "    \n",
    "    def __str__(self):     # string representation of a card\n",
    "        return self.rank+ \" of \"+self.suit"
   ]
  },
  {
   "cell_type": "code",
   "execution_count": 16,
   "metadata": {
    "collapsed": false,
    "deletable": true,
    "editable": true
   },
   "outputs": [],
   "source": [
    "class Deck:   # store 52 card objects in a list that can be shuffled\n",
    "    \n",
    "    def __init__(self):\n",
    "        self.deck = []\n",
    "        for suit in suits:\n",
    "            for rank in ranks:\n",
    "                self.deck.append(Card(suit,rank))\n",
    "    \n",
    "    def __str__(self):\n",
    "        deck_comp = ''\n",
    "        for card in self.deck:\n",
    "            deck_comp += '\\n'+ card.__str__()\n",
    "        return \"The deck has: \"+deck_comp\n",
    "    \n",
    "    def shuffle(self):\n",
    "        random.shuffle(self.deck)\n",
    "    \n",
    "    def deal(self):   # grab a card from self.deck object\n",
    "        single_card = self.deck.pop()\n",
    "        return single_card"
   ]
  },
  {
   "cell_type": "code",
   "execution_count": 17,
   "metadata": {
    "collapsed": false,
    "deletable": true,
    "editable": true
   },
   "outputs": [
    {
     "name": "stdout",
     "output_type": "stream",
     "text": [
      "The deck has: \n",
      "King of Hearts\n",
      "Eight of Diamonds\n",
      "Four of Diamonds\n",
      "Seven of Hearts\n",
      "Five of Hearts\n",
      "Five of Spades\n",
      "Queen of Spades\n",
      "Four of Clubs\n",
      "Seven of Diamonds\n",
      "Seven of Clubs\n",
      "Seven of Spades\n",
      "Ten of Clubs\n",
      "Nine of Clubs\n",
      "Ten of Spades\n",
      "Three of Diamonds\n",
      "King of Clubs\n",
      "Five of Diamonds\n",
      "Two of Hearts\n",
      "Two of Diamonds\n",
      "Ace of Diamonds\n",
      "Three of Clubs\n",
      "Ace of Clubs\n",
      "Queen of Diamonds\n",
      "Eight of Spades\n",
      "Eight of Hearts\n",
      "Jack of Diamonds\n",
      "Six of Diamonds\n",
      "Nine of Hearts\n",
      "Ace of Spades\n",
      "Five of Clubs\n",
      "Queen of Clubs\n",
      "Four of Spades\n",
      "Six of Hearts\n",
      "Four of Hearts\n",
      "Three of Hearts\n",
      "Two of Spades\n",
      "Three of Spades\n",
      "Nine of Diamonds\n",
      "Ten of Hearts\n",
      "Ten of Diamonds\n",
      "Ace of Hearts\n",
      "Six of Clubs\n",
      "King of Spades\n",
      "Nine of Spades\n",
      "Eight of Clubs\n",
      "Jack of Clubs\n",
      "Two of Clubs\n",
      "Jack of Spades\n",
      "Six of Spades\n",
      "Queen of Hearts\n",
      "Jack of Hearts\n",
      "King of Diamonds\n"
     ]
    }
   ],
   "source": [
    "test_deck = Deck()\n",
    "test_deck.shuffle()\n",
    "print(test_deck)"
   ]
  },
  {
   "cell_type": "code",
   "execution_count": 18,
   "metadata": {
    "collapsed": true,
    "deletable": true,
    "editable": true
   },
   "outputs": [],
   "source": [
    "# Representation of a PLAYER\n",
    "class Hand:   # for holding card objects dealt from Deck and also calculate value of those cards\n",
    "    def __init__(self):\n",
    "        self.cards = []\n",
    "        self.value = 0\n",
    "        self.aces = 0     # keep track of no.of aces\n",
    "        \n",
    "    def add_card(self,card):\n",
    "        self.cards.append(card)  # card passed in from Deck.deal()\n",
    "        self.value += values[card.rank]\n",
    "        \n",
    "        # track aces\n",
    "        if card.rank == 'Ace':\n",
    "            self.aces += 1 \n",
    "        \n",
    "    def adjust_for_ace(self):\n",
    "        \n",
    "        # if total value>21 & still have an ace then change ace to be = 1 and not 11\n",
    "        while self.value > 21 and self.aces > 0:   \n",
    "            self.value -= 10\n",
    "            self.aces -= 1"
   ]
  },
  {
   "cell_type": "code",
   "execution_count": 19,
   "metadata": {
    "collapsed": false,
    "deletable": true,
    "editable": true
   },
   "outputs": [
    {
     "data": {
      "text/plain": [
       "'\\ntest_deck = Deck()\\ntest_deck.shuffle()\\n\\ntest_player = Hand()\\n# Deal 1 card from the deck CARD(suit,rank)\\npulled_card = test_deck.deal() \\nprint(pulled_card)\\ntest_player.add_card(pulled_card)   \\nprint(test_player.value)\\n'"
      ]
     },
     "execution_count": 19,
     "metadata": {},
     "output_type": "execute_result"
    }
   ],
   "source": [
    "'''\n",
    "test_deck = Deck()\n",
    "test_deck.shuffle()\n",
    "\n",
    "test_player = Hand()\n",
    "# Deal 1 card from the deck CARD(suit,rank)\n",
    "pulled_card = test_deck.deal() \n",
    "print(pulled_card)\n",
    "test_player.add_card(pulled_card)   \n",
    "print(test_player.value)\n",
    "'''"
   ]
  },
  {
   "cell_type": "code",
   "execution_count": 20,
   "metadata": {
    "collapsed": false,
    "deletable": true,
    "editable": true
   },
   "outputs": [
    {
     "data": {
      "text/plain": [
       "'\\n# Add another card\\ntest_player.add_card(test_deck.deal())\\ntest_player.value\\n'"
      ]
     },
     "execution_count": 20,
     "metadata": {},
     "output_type": "execute_result"
    }
   ],
   "source": [
    "'''\n",
    "# Add another card\n",
    "test_player.add_card(test_deck.deal())\n",
    "test_player.value\n",
    "'''"
   ]
  },
  {
   "cell_type": "code",
   "execution_count": 21,
   "metadata": {
    "collapsed": true,
    "deletable": true,
    "editable": true
   },
   "outputs": [],
   "source": [
    "# to keep track of a player's starting chips,bets,& winnings\n",
    "class Chips:\n",
    "    \n",
    "    def __init__(self,total=100):\n",
    "        self.total = total    # total no.of chips\n",
    "        self.bet = 0\n",
    "        \n",
    "    def win_bet(self):\n",
    "        self.total += self.bet   # add chips\n",
    "        \n",
    "    def lose_bet(self):\n",
    "        self.total -= self.bet    # subtract chips"
   ]
  },
  {
   "cell_type": "code",
   "execution_count": 22,
   "metadata": {
    "collapsed": true,
    "deletable": true,
    "editable": true
   },
   "outputs": [],
   "source": [
    "# function ask user for the bet\n",
    "def take_bet(chips):\n",
    "    \n",
    "    while True:  \n",
    "        try:\n",
    "            chips.bet = int(input(\"How many chips would you like to bet?\"))\n",
    "        except:\n",
    "            print(\"Sorry plz provide an integer\")\n",
    "        else:           # implemented when there is no exception\n",
    "            if chips.bet > chips.total:\n",
    "                print('Sorry,u do not have enough chips ! You have only: {}'.format(chips.total))\n",
    "            else:\n",
    "                break"
   ]
  },
  {
   "cell_type": "code",
   "execution_count": 23,
   "metadata": {
    "collapsed": true,
    "deletable": true,
    "editable": true
   },
   "outputs": [],
   "source": [
    "# function for taking hits\n",
    "def hit(deck,hand):\n",
    "    \n",
    "    single_card = deck.deal()   # grabs a single card from the deck\n",
    "    hand.add_card(single_card)\n",
    "    hand.adjust_for_ace() "
   ]
  },
  {
   "cell_type": "code",
   "execution_count": 24,
   "metadata": {
    "collapsed": true,
    "deletable": true,
    "editable": true
   },
   "outputs": [],
   "source": [
    "# function prompting the player to hit or stand \n",
    "def hit_or_stand(deck,hand):\n",
    "    global playing   # to control upcoming while loop\n",
    "    \n",
    "    while True:\n",
    "        x = input('Hit / Stand ? Enter h or s')\n",
    "        \n",
    "        if x[0].lower() == 'h':\n",
    "            hit(deck,hand)  \n",
    "        elif x[0].lower() == 's':\n",
    "            print(\"Player stands, Dealer's turn !\")\n",
    "            playing = False\n",
    "        else:\n",
    "            print(\"Please re-enter!!!\")\n",
    "            continue\n",
    "            \n",
    "        break"
   ]
  },
  {
   "cell_type": "markdown",
   "metadata": {},
   "source": [
    "When the game starts, and after each time Player takes a card, the dealer's first card is hidden and all of Player's cards are visible. At the end of the hand all cards are shown, and you may want to show each hand's total value. Write a function for each of these scenarios."
   ]
  },
  {
   "cell_type": "code",
   "execution_count": 25,
   "metadata": {
    "collapsed": true
   },
   "outputs": [],
   "source": [
    "def show_some(player,dealer):\n",
    "    print(\"\\nDealer's Hand:\")\n",
    "    print(\" <card hidden>\")\n",
    "    print('',dealer.cards[1])  \n",
    "    print(\"\\nPlayer's Hand:\", *player.cards, sep='\\n ')   # the * symbol is used to print every item in a collection, and the sep='\\n' argument prints each item on a separate line\n",
    "    \n",
    "def show_all(player,dealer):\n",
    "    print(\"\\nDealer's Hand:\", *dealer.cards, sep='\\n ')\n",
    "    print(\"Dealer's Hand =\",dealer.value)\n",
    "    print(\"\\nPlayer's Hand:\", *player.cards, sep='\\n ')\n",
    "    print(\"Player's Hand =\",player.value)"
   ]
  },
  {
   "cell_type": "code",
   "execution_count": 26,
   "metadata": {
    "collapsed": true,
    "deletable": true,
    "editable": true
   },
   "outputs": [],
   "source": [
    "# functions to handle end of game scenarios\n",
    "\n",
    "def player_busts(player,dealer,chips):\n",
    "    print(\"Player Busted!\")\n",
    "    chips.lose_bet()\n",
    "def player_wins(player,dealer,chips):\n",
    "    print(\"Player Wins!\")\n",
    "    chips.win_bet()\n",
    "def dealer_busts(player,dealer,chips):\n",
    "    print(\"Dealer Busted!...Player Wins!!\")\n",
    "    chips.win_bet()\n",
    "def dealer_wins(player,dealer,chips):\n",
    "    print(\"Dealer Wins!\")\n",
    "    chips.lose_bet()\n",
    "def push(player,dealer):   # both player & dealer got 21\n",
    "    print(\"TIE!!\")"
   ]
  },
  {
   "cell_type": "code",
   "execution_count": 27,
   "metadata": {
    "collapsed": false,
    "deletable": true,
    "editable": true
   },
   "outputs": [
    {
     "name": "stdout",
     "output_type": "stream",
     "text": [
      "Welcome to BLACKJACK\n",
      "How many chips would you like to bet?300\n",
      "Sorry,u do not have enough chips ! You have only: 100\n",
      "How many chips would you like to bet?50\n",
      "\n",
      "Dealer's Hand:\n",
      " <card hidden>\n",
      " Seven of Hearts\n",
      "\n",
      "Player's Hand:\n",
      " Four of Hearts\n",
      " Five of Diamonds\n",
      "Hit / Stand ? Enter h or sh\n",
      "\n",
      "Dealer's Hand:\n",
      " <card hidden>\n",
      " Seven of Hearts\n",
      "\n",
      "Player's Hand:\n",
      " Four of Hearts\n",
      " Five of Diamonds\n",
      " Jack of Hearts\n",
      "Hit / Stand ? Enter h or ss\n",
      "Player stands, Dealer's turn !\n",
      "\n",
      "Dealer's Hand:\n",
      " <card hidden>\n",
      " Seven of Hearts\n",
      "\n",
      "Player's Hand:\n",
      " Four of Hearts\n",
      " Five of Diamonds\n",
      " Jack of Hearts\n",
      "\n",
      "Dealer's Hand:\n",
      " Ten of Diamonds\n",
      " Seven of Hearts\n",
      "Dealer's Hand = 17\n",
      "\n",
      "Player's Hand:\n",
      " Four of Hearts\n",
      " Five of Diamonds\n",
      " Jack of Hearts\n",
      "Player's Hand = 19\n",
      "Player Wins!\n",
      "\n",
      " Total chips with player are: 150\n",
      "Would u like to play another hand? y/ny\n",
      "Welcome to BLACKJACK\n",
      "How many chips would you like to bet?100\n",
      "\n",
      "Dealer's Hand:\n",
      " <card hidden>\n",
      " King of Clubs\n",
      "\n",
      "Player's Hand:\n",
      " Ace of Spades\n",
      " Jack of Spades\n",
      "Hit / Stand ? Enter h or ss\n",
      "Player stands, Dealer's turn !\n",
      "\n",
      "Dealer's Hand:\n",
      " <card hidden>\n",
      " King of Clubs\n",
      "\n",
      "Player's Hand:\n",
      " Ace of Spades\n",
      " Jack of Spades\n",
      "\n",
      "Dealer's Hand:\n",
      " Ace of Hearts\n",
      " King of Clubs\n",
      "Dealer's Hand = 21\n",
      "\n",
      "Player's Hand:\n",
      " Ace of Spades\n",
      " Jack of Spades\n",
      "Player's Hand = 21\n",
      "TIE!!\n",
      "\n",
      " Total chips with player are: 100\n",
      "Would u like to play another hand? y/nn\n",
      "Thank u for Playing!!\n"
     ]
    }
   ],
   "source": [
    "# MAIN GAME\n",
    "\n",
    "while True:\n",
    "    print(\"Welcome to BLACKJACK\")\n",
    "    # create & shuffle the deck\n",
    "    deck = Deck()\n",
    "    deck.shuffle()\n",
    "    \n",
    "    # deal 2 cards to each player\n",
    "    player_hand = Hand()\n",
    "    player_hand.add_card(deck.deal())\n",
    "    player_hand.add_card(deck.deal())\n",
    "    \n",
    "    dealer_hand = Hand()\n",
    "    dealer_hand.add_card(deck.deal())\n",
    "    dealer_hand.add_card(deck.deal())\n",
    "    \n",
    "    # Set up the player's chips\n",
    "    player_chips = Chips()\n",
    "    \n",
    "    # Ask player their bet\n",
    "    take_bet(player_chips)\n",
    "    \n",
    "    # Show cards (but keep 1 dealer card hidden)\n",
    "    show_some(player_hand,dealer_hand)\n",
    "    \n",
    "    while playing:  \n",
    "        # Ask player hit/stand\n",
    "        hit_or_stand(deck,player_hand)\n",
    "        \n",
    "        # show cards\n",
    "        show_some(player_hand,dealer_hand)\n",
    "        \n",
    "        # if player's hand exceeds 21 => player busts\n",
    "        if player_hand.value > 21:\n",
    "            player_busts(player_hand,dealer_hand,player_chips)\n",
    "            \n",
    "            break\n",
    "        \n",
    "    # if player not busted,play Dealer's hand until Dealer reaches 17\n",
    "    if player_hand.value <= 21:\n",
    "        while dealer_hand.value < 17:\n",
    "            hit(deck,dealer_hand)\n",
    "                \n",
    "        # show all cards\n",
    "        show_all(player_hand,dealer_hand)\n",
    "            \n",
    "        # Run different winning scenarios\n",
    "        if dealer_hand.value > 21:\n",
    "            dealer_busts(player_hand,dealer_hand,player_chips)\n",
    "        elif dealer_hand.value > player_hand.value:\n",
    "            dealer_wins(player_hand,dealer_hand,player_chips)\n",
    "        elif dealer_hand.value <player_hand.value:\n",
    "            player_wins(player_hand,dealer_hand,player_chips)\n",
    "        else:\n",
    "            push(player_hand,dealer_hand)\n",
    "                \n",
    "    # inform player their total chips\n",
    "    print('\\n Total chips with player are: {}'.format(player_chips.total))\n",
    "            \n",
    "    # Ask to play again\n",
    "    new_game = input(\"Would u like to play another hand? y/n\")\n",
    "            \n",
    "    if new_game[0].lower() == 'y':\n",
    "        playing = True\n",
    "        continue\n",
    "    else:\n",
    "        print('Thank u for Playing!!')\n",
    "        break          "
   ]
  },
  {
   "cell_type": "code",
   "execution_count": null,
   "metadata": {
    "collapsed": true
   },
   "outputs": [],
   "source": []
  }
 ],
 "metadata": {
  "kernelspec": {
   "display_name": "Python 3",
   "language": "python",
   "name": "python3"
  },
  "language_info": {
   "codemirror_mode": {
    "name": "ipython",
    "version": 3
   },
   "file_extension": ".py",
   "mimetype": "text/x-python",
   "name": "python",
   "nbconvert_exporter": "python",
   "pygments_lexer": "ipython3",
   "version": "3.5.2"
  }
 },
 "nbformat": 4,
 "nbformat_minor": 2
}
